{
 "cells": [
  {
   "cell_type": "code",
   "execution_count": 56,
   "metadata": {},
   "outputs": [],
   "source": [
    "import matplotlib.pyplot as plt\n",
    "import numpy as np\n",
    "import pandas as pd\n",
    "import seaborn as sns\n",
    "\n",
    "from sklearn.decomposition import PCA\n",
    "from sklearn.preprocessing import StandardScaler, PolynomialFeatures, Normalizer, MinMaxScaler\n",
    "from sklearn.cluster import KMeans\n",
    "from sklearn.metrics import silhouette_score\n",
    "\n",
    "sns.set_style(\"whitegrid\")\n",
    "\n",
    "%matplotlib inline\n",
    "%config InlineBackend.figure_format = 'retina'"
   ]
  },
  {
   "cell_type": "code",
   "execution_count": 3,
   "metadata": {},
   "outputs": [
    {
     "data": {
      "text/html": [
       "<div>\n",
       "<style scoped>\n",
       "    .dataframe tbody tr th:only-of-type {\n",
       "        vertical-align: middle;\n",
       "    }\n",
       "\n",
       "    .dataframe tbody tr th {\n",
       "        vertical-align: top;\n",
       "    }\n",
       "\n",
       "    .dataframe thead th {\n",
       "        text-align: right;\n",
       "    }\n",
       "</style>\n",
       "<table border=\"1\" class=\"dataframe\">\n",
       "  <thead>\n",
       "    <tr style=\"text-align: right;\">\n",
       "      <th></th>\n",
       "      <th>Player</th>\n",
       "      <th>TEAM</th>\n",
       "      <th>AGE</th>\n",
       "      <th>GP</th>\n",
       "      <th>W</th>\n",
       "      <th>L</th>\n",
       "      <th>MIN</th>\n",
       "      <th>PTS</th>\n",
       "      <th>FGM</th>\n",
       "      <th>FGA</th>\n",
       "      <th>...</th>\n",
       "      <th>%FTA</th>\n",
       "      <th>%OREB</th>\n",
       "      <th>%REB</th>\n",
       "      <th>%AST</th>\n",
       "      <th>%TOV</th>\n",
       "      <th>%STL</th>\n",
       "      <th>%BLKA</th>\n",
       "      <th>%PF</th>\n",
       "      <th>%PFD</th>\n",
       "      <th>%PTS</th>\n",
       "    </tr>\n",
       "  </thead>\n",
       "  <tbody>\n",
       "    <tr>\n",
       "      <th>0</th>\n",
       "      <td>Stephen Curry</td>\n",
       "      <td>GSW</td>\n",
       "      <td>33</td>\n",
       "      <td>58</td>\n",
       "      <td>32</td>\n",
       "      <td>26</td>\n",
       "      <td>34.1</td>\n",
       "      <td>31.5</td>\n",
       "      <td>10.3</td>\n",
       "      <td>21.3</td>\n",
       "      <td>...</td>\n",
       "      <td>37.9</td>\n",
       "      <td>8.0</td>\n",
       "      <td>17.9</td>\n",
       "      <td>27.6</td>\n",
       "      <td>29.8</td>\n",
       "      <td>20.8</td>\n",
       "      <td>32.5</td>\n",
       "      <td>12.1</td>\n",
       "      <td>32.1</td>\n",
       "      <td>37.1</td>\n",
       "    </tr>\n",
       "    <tr>\n",
       "      <th>1</th>\n",
       "      <td>Bradley Beal</td>\n",
       "      <td>WAS</td>\n",
       "      <td>27</td>\n",
       "      <td>57</td>\n",
       "      <td>29</td>\n",
       "      <td>28</td>\n",
       "      <td>35.6</td>\n",
       "      <td>31.1</td>\n",
       "      <td>11.1</td>\n",
       "      <td>22.8</td>\n",
       "      <td>...</td>\n",
       "      <td>37.0</td>\n",
       "      <td>15.9</td>\n",
       "      <td>14.3</td>\n",
       "      <td>22.9</td>\n",
       "      <td>29.6</td>\n",
       "      <td>20.1</td>\n",
       "      <td>26.5</td>\n",
       "      <td>14.3</td>\n",
       "      <td>32.3</td>\n",
       "      <td>34.9</td>\n",
       "    </tr>\n",
       "    <tr>\n",
       "      <th>2</th>\n",
       "      <td>Joel Embiid</td>\n",
       "      <td>PHI</td>\n",
       "      <td>27</td>\n",
       "      <td>47</td>\n",
       "      <td>36</td>\n",
       "      <td>11</td>\n",
       "      <td>31.5</td>\n",
       "      <td>29.1</td>\n",
       "      <td>9.2</td>\n",
       "      <td>18.0</td>\n",
       "      <td>...</td>\n",
       "      <td>58.3</td>\n",
       "      <td>43.3</td>\n",
       "      <td>37.2</td>\n",
       "      <td>18.4</td>\n",
       "      <td>34.7</td>\n",
       "      <td>16.1</td>\n",
       "      <td>35.0</td>\n",
       "      <td>21.5</td>\n",
       "      <td>53.0</td>\n",
       "      <td>37.1</td>\n",
       "    </tr>\n",
       "    <tr>\n",
       "      <th>3</th>\n",
       "      <td>Luka Doncic</td>\n",
       "      <td>DAL</td>\n",
       "      <td>22</td>\n",
       "      <td>59</td>\n",
       "      <td>35</td>\n",
       "      <td>24</td>\n",
       "      <td>35.1</td>\n",
       "      <td>28.5</td>\n",
       "      <td>10.1</td>\n",
       "      <td>20.8</td>\n",
       "      <td>...</td>\n",
       "      <td>45.4</td>\n",
       "      <td>12.5</td>\n",
       "      <td>25.6</td>\n",
       "      <td>52.4</td>\n",
       "      <td>49.9</td>\n",
       "      <td>21.3</td>\n",
       "      <td>32.2</td>\n",
       "      <td>16.8</td>\n",
       "      <td>38.5</td>\n",
       "      <td>33.7</td>\n",
       "    </tr>\n",
       "    <tr>\n",
       "      <th>4</th>\n",
       "      <td>Damian Lillard</td>\n",
       "      <td>POR</td>\n",
       "      <td>30</td>\n",
       "      <td>61</td>\n",
       "      <td>34</td>\n",
       "      <td>27</td>\n",
       "      <td>35.7</td>\n",
       "      <td>28.4</td>\n",
       "      <td>8.8</td>\n",
       "      <td>20.0</td>\n",
       "      <td>...</td>\n",
       "      <td>43.6</td>\n",
       "      <td>6.0</td>\n",
       "      <td>12.8</td>\n",
       "      <td>46.2</td>\n",
       "      <td>36.6</td>\n",
       "      <td>18.0</td>\n",
       "      <td>29.1</td>\n",
       "      <td>11.5</td>\n",
       "      <td>43.1</td>\n",
       "      <td>32.0</td>\n",
       "    </tr>\n",
       "  </tbody>\n",
       "</table>\n",
       "<p>5 rows × 84 columns</p>\n",
       "</div>"
      ],
      "text/plain": [
       "           Player TEAM  AGE  GP   W   L   MIN   PTS   FGM   FGA  ...  %FTA  \\\n",
       "0   Stephen Curry  GSW   33  58  32  26  34.1  31.5  10.3  21.3  ...  37.9   \n",
       "1    Bradley Beal  WAS   27  57  29  28  35.6  31.1  11.1  22.8  ...  37.0   \n",
       "2     Joel Embiid  PHI   27  47  36  11  31.5  29.1   9.2  18.0  ...  58.3   \n",
       "3     Luka Doncic  DAL   22  59  35  24  35.1  28.5  10.1  20.8  ...  45.4   \n",
       "4  Damian Lillard  POR   30  61  34  27  35.7  28.4   8.8  20.0  ...  43.6   \n",
       "\n",
       "   %OREB  %REB  %AST  %TOV  %STL  %BLKA   %PF  %PFD  %PTS  \n",
       "0    8.0  17.9  27.6  29.8  20.8   32.5  12.1  32.1  37.1  \n",
       "1   15.9  14.3  22.9  29.6  20.1   26.5  14.3  32.3  34.9  \n",
       "2   43.3  37.2  18.4  34.7  16.1   35.0  21.5  53.0  37.1  \n",
       "3   12.5  25.6  52.4  49.9  21.3   32.2  16.8  38.5  33.7  \n",
       "4    6.0  12.8  46.2  36.6  18.0   29.1  11.5  43.1  32.0  \n",
       "\n",
       "[5 rows x 84 columns]"
      ]
     },
     "execution_count": 3,
     "metadata": {},
     "output_type": "execute_result"
    }
   ],
   "source": [
    "nba_stats2021 = pd.read_csv('./nba_stats2021_original.csv')\n",
    "nba_stats2021.head()"
   ]
  },
  {
   "cell_type": "code",
   "execution_count": 19,
   "metadata": {},
   "outputs": [
    {
     "name": "stdout",
     "output_type": "stream",
     "text": [
      "<class 'pandas.core.frame.DataFrame'>\n",
      "RangeIndex: 534 entries, 0 to 533\n",
      "Data columns (total 84 columns):\n",
      " #   Column             Non-Null Count  Dtype  \n",
      "---  ------             --------------  -----  \n",
      " 0   Player             534 non-null    object \n",
      " 1   TEAM               534 non-null    object \n",
      " 2   AGE                534 non-null    int64  \n",
      " 3   GP                 534 non-null    int64  \n",
      " 4   W                  534 non-null    int64  \n",
      " 5   L                  534 non-null    int64  \n",
      " 6   MIN                534 non-null    float64\n",
      " 7   PTS                534 non-null    float64\n",
      " 8   FGM                534 non-null    float64\n",
      " 9   FGA                534 non-null    float64\n",
      " 10  FG%                534 non-null    float64\n",
      " 11  3PM                534 non-null    float64\n",
      " 12  3PA                534 non-null    float64\n",
      " 13  3P%                534 non-null    float64\n",
      " 14  FTM                534 non-null    float64\n",
      " 15  FTA                534 non-null    float64\n",
      " 16  FT%                534 non-null    float64\n",
      " 17  OREB               534 non-null    float64\n",
      " 18  DREB_x             534 non-null    float64\n",
      " 19  REB                534 non-null    float64\n",
      " 20  AST                534 non-null    float64\n",
      " 21  TOV                534 non-null    float64\n",
      " 22  STL_x              534 non-null    float64\n",
      " 23  BLK_x              534 non-null    float64\n",
      " 24  PF                 534 non-null    float64\n",
      " 25  FP                 534 non-null    float64\n",
      " 26  DD2                534 non-null    float64\n",
      " 27  TD3                534 non-null    float64\n",
      " 28  +/-                534 non-null    float64\n",
      " 29  OFFRTG             534 non-null    float64\n",
      " 30  DEFRTG             534 non-null    float64\n",
      " 31  NETRTG             534 non-null    float64\n",
      " 32  AST%               534 non-null    float64\n",
      " 33  AST/TO             534 non-null    float64\n",
      " 34  AST Ratio          534 non-null    float64\n",
      " 35  OREB%              534 non-null    float64\n",
      " 36  DREB%_x            534 non-null    float64\n",
      " 37  REB%               534 non-null    float64\n",
      " 38  TO Ratio           534 non-null    float64\n",
      " 39  eFG%               534 non-null    float64\n",
      " 40  TS%                534 non-null    float64\n",
      " 41  USG%_x             534 non-null    float64\n",
      " 42  PACE               534 non-null    float64\n",
      " 43  PIE                534 non-null    float64\n",
      " 44  POSS               534 non-null    int64  \n",
      " 45  %FGA2PT            534 non-null    float64\n",
      " 46  %FGA3PT            534 non-null    float64\n",
      " 47  %PTS2PT            534 non-null    float64\n",
      " 48  %PTS2PT MR         534 non-null    float64\n",
      " 49  %PTS3PT            534 non-null    float64\n",
      " 50  %PTSFBPs           534 non-null    float64\n",
      " 51  %PTSFT             534 non-null    float64\n",
      " 52  %PTSOffTO          534 non-null    float64\n",
      " 53  %PTSPITP           534 non-null    float64\n",
      " 54  2FGM%AST           534 non-null    float64\n",
      " 55  2FGM%UAST          534 non-null    float64\n",
      " 56  3FGM%AST           534 non-null    float64\n",
      " 57  3FGM%UAST          534 non-null    float64\n",
      " 58  FGM%AST            534 non-null    float64\n",
      " 59  FGM%UAST           534 non-null    float64\n",
      " 60  DEF RTG            534 non-null    float64\n",
      " 61  %DREB_x            534 non-null    float64\n",
      " 62  STL%               534 non-null    float64\n",
      " 63  %BLK_x             534 non-null    float64\n",
      " 64  OPP PTSOFF TOV     534 non-null    float64\n",
      " 65  OPP PTS2ND CHANCE  534 non-null    float64\n",
      " 66  OPP PTSFB          534 non-null    float64\n",
      " 67  OPP PTSPAINT       534 non-null    float64\n",
      " 68  DEFWS              534 non-null    float64\n",
      " 69  %FGM               534 non-null    float64\n",
      " 70  %FGA               534 non-null    float64\n",
      " 71  %3PM               534 non-null    float64\n",
      " 72  %3PA               534 non-null    float64\n",
      " 73  %FTM               534 non-null    float64\n",
      " 74  %FTA               534 non-null    float64\n",
      " 75  %OREB              534 non-null    float64\n",
      " 76  %REB               534 non-null    float64\n",
      " 77  %AST               534 non-null    float64\n",
      " 78  %TOV               534 non-null    float64\n",
      " 79  %STL               534 non-null    float64\n",
      " 80  %BLKA              534 non-null    float64\n",
      " 81  %PF                534 non-null    float64\n",
      " 82  %PFD               534 non-null    float64\n",
      " 83  %PTS               534 non-null    float64\n",
      "dtypes: float64(77), int64(5), object(2)\n",
      "memory usage: 350.6+ KB\n"
     ]
    }
   ],
   "source": [
    "nba_stats2021.info()"
   ]
  },
  {
   "cell_type": "code",
   "execution_count": 4,
   "metadata": {},
   "outputs": [
    {
     "name": "stdout",
     "output_type": "stream",
     "text": [
      "15\n"
     ]
    },
    {
     "data": {
      "text/plain": [
       "['DREB_x',\n",
       " 'REB',\n",
       " 'STL_x',\n",
       " 'BLK_x',\n",
       " 'DD2',\n",
       " 'DEFRTG',\n",
       " 'DREB%_x',\n",
       " 'REB%',\n",
       " 'DEF\\xa0RTG',\n",
       " '%DREB_x',\n",
       " 'STL%',\n",
       " '%BLK_x',\n",
       " 'DEFWS',\n",
       " '%STL',\n",
       " '%BLKA']"
      ]
     },
     "execution_count": 4,
     "metadata": {},
     "output_type": "execute_result"
    }
   ],
   "source": [
    "# Creating List of defensive stat features\n",
    "def_stat = []\n",
    "for feature in nba_stats2021.columns:\n",
    "    if feature.startswith(('D','%D','S','%S','B','R','%B')):\n",
    "        def_stat.append(feature)\n",
    "print(len(def_stat))\n",
    "def_stat"
   ]
  },
  {
   "cell_type": "code",
   "execution_count": 81,
   "metadata": {},
   "outputs": [
    {
     "name": "stdout",
     "output_type": "stream",
     "text": [
      "27\n"
     ]
    },
    {
     "data": {
      "text/plain": [
       "['AGE',\n",
       " 'PTS',\n",
       " '3PM',\n",
       " '3PA',\n",
       " '3P%',\n",
       " 'AST',\n",
       " 'TOV',\n",
       " 'AST%',\n",
       " 'AST/TO',\n",
       " 'AST\\xa0Ratio',\n",
       " 'TO\\xa0Ratio',\n",
       " 'eFG%',\n",
       " 'POSS',\n",
       " '%PTS2PT',\n",
       " '%PTS2PT\\xa0MR',\n",
       " '%PTS3PT',\n",
       " '%PTSFBPs',\n",
       " '%PTSFT',\n",
       " '%PTSOffTO',\n",
       " '%PTSPITP',\n",
       " '2FGM%AST',\n",
       " '2FGM%UAST',\n",
       " '3FGM%AST',\n",
       " '3FGM%UAST',\n",
       " '%PF',\n",
       " '%PFD',\n",
       " '%PTS']"
      ]
     },
     "execution_count": 81,
     "metadata": {},
     "output_type": "execute_result"
    }
   ],
   "source": [
    "# Creating List of offensive stat features\n",
    "off_stat = []\n",
    "for feature in nba_stats2021.columns:\n",
    "    if feature.startswith(('3','2','A','PT','%P','TO','e','PO')):\n",
    "        off_stat.append(feature)\n",
    "print(len(off_stat))\n",
    "off_stat"
   ]
  },
  {
   "cell_type": "code",
   "execution_count": 104,
   "metadata": {},
   "outputs": [],
   "source": [
    "# List of Traditional/Boxscore Stats\n",
    "trad_list = ['MIN','FGM','FGA','FG%','3PM','3PA','3P%','FTM','FTA','FT%','OREB','DREB_x','REB','AST','STL_x','BLK_x','PF','PTS','+/-']\n",
    "# List of stats that describe pure or shooting offensive performance\n",
    "pure_off = ['3P%','AST%','eFG%','%PTS2PT','%PTSOffTO','%PTSFT','%PTSFBPs','%PTSPITP','2FGM%AST','3FGM%AST','2FGM%UAST']"
   ]
  },
  {
   "cell_type": "code",
   "execution_count": null,
   "metadata": {},
   "outputs": [],
   "source": []
  },
  {
   "cell_type": "markdown",
   "metadata": {},
   "source": [
    "## ```Baseline model```\n",
    "---\n",
    "\n",
    "Here 5 clusters were used since their are 5 traditional positions in Basketball."
   ]
  },
  {
   "cell_type": "raw",
   "metadata": {},
   "source": [
    "- The Sil score evalutates cohesion (how similar each point in the cluster is to eachother), and seperation (how dissimilar each point is to other points in nearby clusters)\n",
    "- Inertia is a measure of how dense a cluster is.(we want this to be low)\n",
    "\n",
    "- Sil score is expected to be low since the NBA is headed towards positionless basketball. Players that are traditionally labeled as C have similar stats to SF.\n",
    "- Inertia is expected to be high, since data points will vary due to how similar play styles are between different traditional positions. "
   ]
  },
  {
   "cell_type": "markdown",
   "metadata": {},
   "source": [
    "## ```Defense Model```\n",
    "\n",
    "List of all defensive stats"
   ]
  },
  {
   "cell_type": "code",
   "execution_count": 94,
   "metadata": {},
   "outputs": [],
   "source": [
    "X_deff = nba_stats2021[def_stat]\n",
    "\n",
    "# Standard Scalar X\n",
    "sc = StandardScaler()\n",
    "X_sc = sc.fit_transform(X_deff)"
   ]
  },
  {
   "cell_type": "code",
   "execution_count": 95,
   "metadata": {},
   "outputs": [
    {
     "data": {
      "text/plain": [
       "KMeans(n_clusters=5, random_state=42)"
      ]
     },
     "execution_count": 95,
     "metadata": {},
     "output_type": "execute_result"
    }
   ],
   "source": [
    "# Instantiate KMeans with Parameters\n",
    "km = KMeans(n_clusters=5, random_state=42)\n",
    "\n",
    "# Fit model\n",
    "km.fit(X_sc)"
   ]
  },
  {
   "cell_type": "code",
   "execution_count": 96,
   "metadata": {
    "collapsed": true,
    "jupyter": {
     "outputs_hidden": true
    }
   },
   "outputs": [
    {
     "data": {
      "text/plain": [
       "array([0, 0, 3, 3, 0, 3, 3, 0, 0, 3, 3, 0, 3, 0, 0, 0, 3, 0, 3, 3, 0, 0,\n",
       "       3, 3, 0, 0, 3, 0, 0, 3, 0, 3, 0, 0, 0, 3, 3, 0, 0, 0, 3, 3, 0, 3,\n",
       "       0, 0, 0, 0, 0, 0, 3, 0, 3, 0, 0, 0, 4, 0, 0, 0, 0, 3, 0, 0, 0, 0,\n",
       "       3, 4, 0, 0, 4, 0, 0, 0, 0, 0, 0, 3, 0, 0, 0, 4, 0, 0, 3, 0, 4, 0,\n",
       "       0, 0, 3, 3, 3, 1, 3, 0, 1, 0, 0, 1, 0, 1, 1, 0, 0, 1, 0, 3, 0, 3,\n",
       "       1, 0, 0, 4, 0, 4, 3, 0, 4, 0, 3, 0, 1, 3, 1, 0, 4, 3, 4, 1, 4, 1,\n",
       "       0, 0, 0, 0, 0, 0, 0, 0, 1, 0, 0, 4, 1, 3, 3, 1, 0, 3, 0, 4, 0, 1,\n",
       "       0, 4, 0, 4, 0, 1, 4, 3, 4, 0, 4, 0, 0, 0, 3, 4, 0, 4, 0, 0, 0, 1,\n",
       "       4, 0, 4, 0, 0, 4, 0, 0, 1, 1, 1, 0, 4, 0, 0, 0, 4, 4, 0, 4, 4, 0,\n",
       "       0, 0, 0, 3, 0, 3, 0, 1, 1, 0, 0, 0, 0, 1, 0, 0, 0, 3, 4, 3, 0, 0,\n",
       "       3, 0, 0, 3, 4, 0, 0, 4, 1, 1, 4, 3, 1, 0, 0, 0, 0, 0, 1, 1, 4, 4,\n",
       "       0, 0, 1, 0, 0, 4, 4, 4, 1, 1, 3, 1, 0, 1, 4, 1, 1, 0, 4, 4, 1, 4,\n",
       "       1, 1, 4, 3, 1, 0, 0, 0, 0, 0, 1, 1, 0, 1, 0, 0, 4, 0, 1, 4, 0, 3,\n",
       "       1, 0, 4, 4, 0, 0, 1, 0, 1, 0, 1, 4, 0, 0, 0, 4, 1, 1, 1, 0, 4, 0,\n",
       "       4, 1, 4, 0, 4, 0, 1, 4, 0, 4, 1, 1, 0, 4, 4, 1, 0, 0, 0, 0, 4, 1,\n",
       "       4, 0, 4, 0, 1, 1, 1, 4, 0, 0, 4, 4, 0, 1, 1, 0, 1, 0, 1, 1, 1, 1,\n",
       "       3, 1, 0, 0, 0, 1, 0, 0, 0, 4, 4, 4, 4, 1, 4, 4, 4, 4, 0, 4, 4, 4,\n",
       "       0, 4, 0, 4, 0, 4, 4, 0, 1, 1, 1, 0, 4, 4, 4, 1, 1, 0, 4, 0, 4, 0,\n",
       "       4, 4, 4, 0, 4, 4, 1, 0, 0, 4, 4, 4, 1, 1, 0, 4, 0, 0, 1, 0, 1, 4,\n",
       "       4, 4, 4, 4, 4, 1, 1, 4, 4, 4, 1, 4, 4, 0, 4, 4, 1, 0, 1, 1, 1, 0,\n",
       "       4, 4, 0, 4, 1, 1, 4, 1, 1, 4, 0, 4, 0, 4, 4, 4, 4, 4, 4, 4, 4, 0,\n",
       "       0, 4, 0, 4, 1, 4, 1, 4, 1, 4, 4, 4, 4, 4, 4, 4, 0, 4, 4, 1, 4, 1,\n",
       "       4, 4, 4, 0, 0, 0, 1, 1, 4, 1, 4, 0, 1, 1, 4, 0, 4, 4, 4, 4, 0, 0,\n",
       "       4, 4, 4, 1, 4, 4, 1, 0, 0, 1, 4, 1, 1, 4, 4, 1, 4, 4, 4, 4, 4, 4,\n",
       "       2, 4, 4, 2, 4, 2], dtype=int32)"
      ]
     },
     "execution_count": 96,
     "metadata": {},
     "output_type": "execute_result"
    }
   ],
   "source": [
    "km.labels_"
   ]
  },
  {
   "cell_type": "code",
   "execution_count": 97,
   "metadata": {
    "collapsed": true,
    "jupyter": {
     "outputs_hidden": true
    }
   },
   "outputs": [
    {
     "data": {
      "text/plain": [
       "array([[ 2.05563919e-02, -4.56557288e-02,  7.14431702e-01,\n",
       "        -1.41912461e-01, -1.51022481e-01,  9.10205434e-02,\n",
       "        -3.52095410e-01, -4.06853989e-01,  9.10205434e-02,\n",
       "        -3.56459055e-01,  6.84848848e-01, -3.04494367e-01,\n",
       "         2.85666847e-01,  6.84527816e-01, -5.50439501e-03],\n",
       "       [ 1.16691648e-01,  2.37024283e-01, -6.31305888e-01,\n",
       "         4.97395553e-01, -1.88476373e-01, -1.51847284e-01,\n",
       "         9.90265230e-01,  1.08415407e+00, -1.51847284e-01,\n",
       "         9.93601072e-01, -5.46867619e-01,  1.04588527e+00,\n",
       "        -2.44080407e-01, -5.46116287e-01,  2.27973670e-01],\n",
       "       [-1.49812801e+00, -1.33739179e+00, -1.56699075e+00,\n",
       "        -9.98755648e-01, -4.18336792e-01,  7.96128737e+00,\n",
       "        -2.29926228e+00, -1.44262635e+00,  7.96128737e+00,\n",
       "        -2.39255821e+00, -2.11281974e+00, -1.14321832e+00,\n",
       "        -3.38269518e+00, -2.11235468e+00, -1.68731930e+00],\n",
       "       [ 2.08674896e+00,  2.12466098e+00,  8.03652685e-01,\n",
       "         1.61206257e+00,  2.24533417e+00,  1.37511306e-01,\n",
       "         1.40062227e+00,  1.38202937e+00,  1.37511306e-01,\n",
       "         1.41186153e+00,  6.46916732e-02,  7.98682075e-01,\n",
       "         8.11426814e-01,  6.63204029e-02,  5.31608357e-01],\n",
       "       [-7.59653740e-01, -7.66191470e-01, -7.73955519e-01,\n",
       "        -6.48966342e-01, -3.97516101e-01, -2.16459335e-01,\n",
       "        -6.00970239e-01, -5.99944820e-01, -2.16459335e-01,\n",
       "        -5.99236484e-01, -5.38460337e-01, -5.27068282e-01,\n",
       "        -4.23310006e-01, -5.39070586e-01, -2.86597140e-01]])"
      ]
     },
     "execution_count": 97,
     "metadata": {},
     "output_type": "execute_result"
    }
   ],
   "source": [
    "km.cluster_centers_"
   ]
  },
  {
   "cell_type": "code",
   "execution_count": 98,
   "metadata": {},
   "outputs": [
    {
     "name": "stdout",
     "output_type": "stream",
     "text": [
      "Sil score: 0.17427808428600602\n",
      "------\n",
      "Inertia score: 4416.82346692033\n"
     ]
    }
   ],
   "source": [
    "print(f'Sil score: {silhouette_score(X_sc, km.labels_)}')\n",
    "print('------')\n",
    "print(f'Inertia score: {km.inertia_}')"
   ]
  },
  {
   "cell_type": "markdown",
   "metadata": {},
   "source": [
    "## ```Offense Model```\n",
    "\n",
    "List of all offense stats"
   ]
  },
  {
   "cell_type": "code",
   "execution_count": 111,
   "metadata": {},
   "outputs": [
    {
     "name": "stdout",
     "output_type": "stream",
     "text": [
      "Sil score: 0.174952602944137\n",
      " Inertia score: 8706.83937777845\n"
     ]
    }
   ],
   "source": [
    "def baseline(list):\n",
    "    X = nba_stats2021[list]\n",
    "    sc = StandardScaler()\n",
    "    X_sc = sc.fit_transform(X)\n",
    "    km = KMeans(n_clusters=5, random_state=42)\n",
    "    # Fit model\n",
    "    km.fit(X_sc)\n",
    "    return print(f'Sil score: {silhouette_score(X_sc, km.labels_)}\\n Inertia score: {km.inertia_}')\n",
    "\n",
    "baseline(off_stat)"
   ]
  },
  {
   "cell_type": "markdown",
   "metadata": {},
   "source": [
    "## ```Traditional/Boxscore Model```\n",
    "\n",
    "List of Traditional boxscore stats"
   ]
  },
  {
   "cell_type": "code",
   "execution_count": 115,
   "metadata": {},
   "outputs": [
    {
     "name": "stdout",
     "output_type": "stream",
     "text": [
      "Sil score: 0.20837288724021316\n",
      " Inertia score: 4322.942491024253\n"
     ]
    }
   ],
   "source": [
    "baseline(trad_list)"
   ]
  },
  {
   "cell_type": "markdown",
   "metadata": {},
   "source": [
    "## ```Pure Offense Model```\n",
    "\n",
    "List of stats that describe pure or shooting offensive performance"
   ]
  },
  {
   "cell_type": "code",
   "execution_count": 116,
   "metadata": {},
   "outputs": [
    {
     "name": "stdout",
     "output_type": "stream",
     "text": [
      "Sil score: 0.20841507237891116\n",
      " Inertia score: 2904.2111097358033\n"
     ]
    }
   ],
   "source": [
    "baseline(pure_off)"
   ]
  },
  {
   "cell_type": "markdown",
   "metadata": {},
   "source": [
    "## ```Baseline Models Summary```\n",
    "---\n",
    "Defensive:\n",
    "\n",
    "    Sil Score: 0.1742\n",
    "    Inertia Score: 4416.8\n",
    "    \n",
    "Offensive:\n",
    "\n",
    "     Sil Score: 0.17495\n",
    "    Inertia Score: 8706.8\n",
    "    \n",
    "Pure Offensive:\n",
    "\n",
    "    Sil Score: 0.20842\n",
    "    Inertia Score: 2904.2\n",
    "    \n",
    "Traditional:\n",
    "\n",
    "    Sil Score: 0.20837\n",
    "    Inertia Score: 4322.9"
   ]
  },
  {
   "cell_type": "markdown",
   "metadata": {},
   "source": [
    "## ```Manual GridSearch Models```\n",
    "---\n",
    "- Trying to beat Baseline scores\n",
    "- Running manual Grid search with different Scalers and K-values"
   ]
  },
  {
   "cell_type": "markdown",
   "metadata": {},
   "source": [
    "## ```GridSearch Defensive Model```\n",
    "\n",
    "List of all defensive stats"
   ]
  },
  {
   "cell_type": "code",
   "execution_count": 121,
   "metadata": {},
   "outputs": [
    {
     "name": "stdout",
     "output_type": "stream",
     "text": [
      "StandardScaler\n",
      "   k       sil\n",
      "0  2  0.285092\n",
      "Normalize\n",
      "   k       sil\n",
      "0  2  0.361631\n",
      "MinMaxScaler\n",
      "   k       sil\n",
      "0  2  0.307237\n"
     ]
    }
   ],
   "source": [
    "# Manual Grid Search to Find best Scaler/# of Centroids\n",
    "\n",
    "def optimizer(list, n):\n",
    "    # set x, y to drop species\n",
    "    X = nba_stats2021[list]\n",
    "\n",
    "    # set all scaling methods\n",
    "    sc = StandardScaler()\n",
    "    X_sc = sc.fit_transform(X)\n",
    "    nor = Normalizer()\n",
    "    X_normal = nor.fit_transform(X)\n",
    "    min_max = MinMaxScaler()\n",
    "    X_mm = min_max.fit_transform(X)\n",
    "    # loop through each scaler from list\n",
    "    scaler_list = [X_sc, X_normal, X_mm]\n",
    "    scaler = ['StandardScaler', 'Normalize', 'MinMaxScaler']\n",
    "    counter = 0\n",
    "    for scale in scaler_list:\n",
    "        # now loop through range for optimal clusters\n",
    "        sil_scores = []\n",
    "        for k in range(2,n):\n",
    "            km3 = KMeans(n_clusters=k)\n",
    "            km3.fit(scale)\n",
    "            sil_score = silhouette_score(scale, km3.labels_)\n",
    "            sil_scores.append([k, sil_score])\n",
    "        # saving to dataframe\n",
    "        score_df = pd.DataFrame(data=sil_scores, columns=['k','sil'])\n",
    "        # sorting values by silhouette score\n",
    "        score_df.sort_values(by='sil', ascending=False)\n",
    "        # show top 5 # of clusters and silhouette score\n",
    "        print(scaler[counter])\n",
    "        print(score_df.head(1))\n",
    "        counter += 1\n",
    "pass\n",
    "\n",
    "optimizer(def_stat,10)"
   ]
  },
  {
   "cell_type": "code",
   "execution_count": 132,
   "metadata": {},
   "outputs": [
    {
     "data": {
      "text/plain": [
       "0.361631474645697"
      ]
     },
     "execution_count": 132,
     "metadata": {},
     "output_type": "execute_result"
    }
   ],
   "source": [
    "# Double Checking my GridSearch with Best parameters\n",
    "scores = []\n",
    "\n",
    "X = nba_stats2021[def_stat]\n",
    "nn = Normalizer()\n",
    "X_nn = nn.fit_transform(X)\n",
    "\n",
    "for k in range(2,10):\n",
    "    cl = KMeans(n_clusters=k)\n",
    "    cl.fit(X_nn)\n",
    "    inertia = cl.inertia_\n",
    "    sil = silhouette_score(X_nn,cl.labels_)\n",
    "    scores.append([k,inertia, sil])\n",
    "    \n",
    "scores_df = pd.DataFrame(scores)\n",
    "scores_df.columns = ['K', 'inertia', 'silhouette']\n",
    "scores_df['silhouette'].max() "
   ]
  },
  {
   "cell_type": "code",
   "execution_count": 133,
   "metadata": {},
   "outputs": [
    {
     "data": {
      "text/html": [
       "<div>\n",
       "<style scoped>\n",
       "    .dataframe tbody tr th:only-of-type {\n",
       "        vertical-align: middle;\n",
       "    }\n",
       "\n",
       "    .dataframe tbody tr th {\n",
       "        vertical-align: top;\n",
       "    }\n",
       "\n",
       "    .dataframe thead th {\n",
       "        text-align: right;\n",
       "    }\n",
       "</style>\n",
       "<table border=\"1\" class=\"dataframe\">\n",
       "  <thead>\n",
       "    <tr style=\"text-align: right;\">\n",
       "      <th></th>\n",
       "      <th>K</th>\n",
       "      <th>inertia</th>\n",
       "      <th>silhouette</th>\n",
       "    </tr>\n",
       "  </thead>\n",
       "  <tbody>\n",
       "    <tr>\n",
       "      <th>0</th>\n",
       "      <td>2</td>\n",
       "      <td>10.282247</td>\n",
       "      <td>0.361631</td>\n",
       "    </tr>\n",
       "    <tr>\n",
       "      <th>1</th>\n",
       "      <td>3</td>\n",
       "      <td>8.786337</td>\n",
       "      <td>0.213574</td>\n",
       "    </tr>\n",
       "    <tr>\n",
       "      <th>2</th>\n",
       "      <td>4</td>\n",
       "      <td>7.777607</td>\n",
       "      <td>0.214459</td>\n",
       "    </tr>\n",
       "    <tr>\n",
       "      <th>3</th>\n",
       "      <td>5</td>\n",
       "      <td>7.005465</td>\n",
       "      <td>0.228127</td>\n",
       "    </tr>\n",
       "    <tr>\n",
       "      <th>4</th>\n",
       "      <td>6</td>\n",
       "      <td>6.276823</td>\n",
       "      <td>0.216799</td>\n",
       "    </tr>\n",
       "  </tbody>\n",
       "</table>\n",
       "</div>"
      ],
      "text/plain": [
       "   K    inertia  silhouette\n",
       "0  2  10.282247    0.361631\n",
       "1  3   8.786337    0.213574\n",
       "2  4   7.777607    0.214459\n",
       "3  5   7.005465    0.228127\n",
       "4  6   6.276823    0.216799"
      ]
     },
     "execution_count": 133,
     "metadata": {},
     "output_type": "execute_result"
    }
   ],
   "source": [
    "scores_df.head()"
   ]
  },
  {
   "cell_type": "markdown",
   "metadata": {},
   "source": [
    "## ```Offensive Gridsearch```\n",
    "\n",
    "List of all Offensive Stats"
   ]
  },
  {
   "cell_type": "code",
   "execution_count": 125,
   "metadata": {},
   "outputs": [
    {
     "name": "stdout",
     "output_type": "stream",
     "text": [
      "StandardScaler\n",
      "   k       sil\n",
      "0  2  0.159066\n",
      "Normalize\n",
      "   k       sil\n",
      "0  2  0.721928\n",
      "MinMaxScaler\n",
      "   k      sil\n",
      "0  2  0.34308\n"
     ]
    }
   ],
   "source": [
    "optimizer(off_stat,10)"
   ]
  },
  {
   "cell_type": "code",
   "execution_count": 134,
   "metadata": {},
   "outputs": [
    {
     "data": {
      "text/plain": [
       "0.7300294465924135"
      ]
     },
     "execution_count": 134,
     "metadata": {},
     "output_type": "execute_result"
    }
   ],
   "source": [
    "# Double Checking my GridSearch with Best parameters\n",
    "scores = []\n",
    "\n",
    "X = nba_stats2021[off_stat]\n",
    "nn = Normalizer()\n",
    "X_nn = nn.fit_transform(X)\n",
    "\n",
    "for k in range(2,11):\n",
    "    cl = KMeans(n_clusters=k)\n",
    "    cl.fit(X_nn)\n",
    "    inertia = cl.inertia_\n",
    "    sil = silhouette_score(X_nn,cl.labels_)\n",
    "    scores.append([k,inertia, sil])\n",
    "    \n",
    "scores_df = pd.DataFrame(scores)\n",
    "scores_df.columns = ['K', 'inertia', 'silhouette']\n",
    "scores_df['silhouette'].max() "
   ]
  },
  {
   "cell_type": "code",
   "execution_count": 135,
   "metadata": {},
   "outputs": [
    {
     "data": {
      "text/html": [
       "<div>\n",
       "<style scoped>\n",
       "    .dataframe tbody tr th:only-of-type {\n",
       "        vertical-align: middle;\n",
       "    }\n",
       "\n",
       "    .dataframe tbody tr th {\n",
       "        vertical-align: top;\n",
       "    }\n",
       "\n",
       "    .dataframe thead th {\n",
       "        text-align: right;\n",
       "    }\n",
       "</style>\n",
       "<table border=\"1\" class=\"dataframe\">\n",
       "  <thead>\n",
       "    <tr style=\"text-align: right;\">\n",
       "      <th></th>\n",
       "      <th>K</th>\n",
       "      <th>inertia</th>\n",
       "      <th>silhouette</th>\n",
       "    </tr>\n",
       "  </thead>\n",
       "  <tbody>\n",
       "    <tr>\n",
       "      <th>0</th>\n",
       "      <td>2</td>\n",
       "      <td>38.152328</td>\n",
       "      <td>0.721928</td>\n",
       "    </tr>\n",
       "    <tr>\n",
       "      <th>1</th>\n",
       "      <td>3</td>\n",
       "      <td>29.865810</td>\n",
       "      <td>0.725332</td>\n",
       "    </tr>\n",
       "    <tr>\n",
       "      <th>2</th>\n",
       "      <td>4</td>\n",
       "      <td>23.226511</td>\n",
       "      <td>0.730029</td>\n",
       "    </tr>\n",
       "    <tr>\n",
       "      <th>3</th>\n",
       "      <td>5</td>\n",
       "      <td>19.891956</td>\n",
       "      <td>0.633879</td>\n",
       "    </tr>\n",
       "    <tr>\n",
       "      <th>4</th>\n",
       "      <td>6</td>\n",
       "      <td>17.778814</td>\n",
       "      <td>0.626515</td>\n",
       "    </tr>\n",
       "  </tbody>\n",
       "</table>\n",
       "</div>"
      ],
      "text/plain": [
       "   K    inertia  silhouette\n",
       "0  2  38.152328    0.721928\n",
       "1  3  29.865810    0.725332\n",
       "2  4  23.226511    0.730029\n",
       "3  5  19.891956    0.633879\n",
       "4  6  17.778814    0.626515"
      ]
     },
     "execution_count": 135,
     "metadata": {},
     "output_type": "execute_result"
    }
   ],
   "source": [
    "scores_df.head()"
   ]
  },
  {
   "cell_type": "markdown",
   "metadata": {},
   "source": [
    "## ```Traditional GridSearch```\n",
    "\n",
    "List of all Traditional stats"
   ]
  },
  {
   "cell_type": "code",
   "execution_count": 136,
   "metadata": {},
   "outputs": [
    {
     "name": "stdout",
     "output_type": "stream",
     "text": [
      "StandardScaler\n",
      "   k       sil\n",
      "0  2  0.304904\n",
      "Normalize\n",
      "   k       sil\n",
      "0  2  0.700862\n",
      "MinMaxScaler\n",
      "   k       sil\n",
      "0  2  0.344298\n"
     ]
    }
   ],
   "source": [
    "optimizer(trad_list,10)"
   ]
  },
  {
   "cell_type": "code",
   "execution_count": 138,
   "metadata": {},
   "outputs": [
    {
     "data": {
      "text/plain": [
       "0.7008617884039994"
      ]
     },
     "execution_count": 138,
     "metadata": {},
     "output_type": "execute_result"
    }
   ],
   "source": [
    "# Double Checking my GridSearch with Best parameters\n",
    "scores = []\n",
    "\n",
    "X = nba_stats2021[trad_list]\n",
    "nn = Normalizer()\n",
    "X_nn = nn.fit_transform(X)\n",
    "\n",
    "for k in range(2,11):\n",
    "    cl = KMeans(n_clusters=k)\n",
    "    cl.fit(X_nn)\n",
    "    inertia = cl.inertia_\n",
    "    sil = silhouette_score(X_nn,cl.labels_)\n",
    "    scores.append([k,inertia, sil])\n",
    "    \n",
    "scores_df = pd.DataFrame(scores)\n",
    "scores_df.columns = ['K', 'inertia', 'silhouette']\n",
    "scores_df['silhouette'].max()"
   ]
  },
  {
   "cell_type": "code",
   "execution_count": 139,
   "metadata": {},
   "outputs": [
    {
     "data": {
      "text/html": [
       "<div>\n",
       "<style scoped>\n",
       "    .dataframe tbody tr th:only-of-type {\n",
       "        vertical-align: middle;\n",
       "    }\n",
       "\n",
       "    .dataframe tbody tr th {\n",
       "        vertical-align: top;\n",
       "    }\n",
       "\n",
       "    .dataframe thead th {\n",
       "        text-align: right;\n",
       "    }\n",
       "</style>\n",
       "<table border=\"1\" class=\"dataframe\">\n",
       "  <thead>\n",
       "    <tr style=\"text-align: right;\">\n",
       "      <th></th>\n",
       "      <th>K</th>\n",
       "      <th>inertia</th>\n",
       "      <th>silhouette</th>\n",
       "    </tr>\n",
       "  </thead>\n",
       "  <tbody>\n",
       "    <tr>\n",
       "      <th>0</th>\n",
       "      <td>2</td>\n",
       "      <td>36.155831</td>\n",
       "      <td>0.700862</td>\n",
       "    </tr>\n",
       "    <tr>\n",
       "      <th>1</th>\n",
       "      <td>3</td>\n",
       "      <td>28.222608</td>\n",
       "      <td>0.453440</td>\n",
       "    </tr>\n",
       "    <tr>\n",
       "      <th>2</th>\n",
       "      <td>4</td>\n",
       "      <td>22.227681</td>\n",
       "      <td>0.467882</td>\n",
       "    </tr>\n",
       "    <tr>\n",
       "      <th>3</th>\n",
       "      <td>5</td>\n",
       "      <td>18.173019</td>\n",
       "      <td>0.291928</td>\n",
       "    </tr>\n",
       "    <tr>\n",
       "      <th>4</th>\n",
       "      <td>6</td>\n",
       "      <td>15.514911</td>\n",
       "      <td>0.292150</td>\n",
       "    </tr>\n",
       "  </tbody>\n",
       "</table>\n",
       "</div>"
      ],
      "text/plain": [
       "   K    inertia  silhouette\n",
       "0  2  36.155831    0.700862\n",
       "1  3  28.222608    0.453440\n",
       "2  4  22.227681    0.467882\n",
       "3  5  18.173019    0.291928\n",
       "4  6  15.514911    0.292150"
      ]
     },
     "execution_count": 139,
     "metadata": {},
     "output_type": "execute_result"
    }
   ],
   "source": [
    "scores_df.head()"
   ]
  },
  {
   "cell_type": "markdown",
   "metadata": {},
   "source": [
    "## ```Pure Offensive GridSearch```\n",
    "\n",
    "List of all stats that describe player scoring"
   ]
  },
  {
   "cell_type": "code",
   "execution_count": 141,
   "metadata": {},
   "outputs": [
    {
     "name": "stdout",
     "output_type": "stream",
     "text": [
      "StandardScaler\n",
      "   k     sil\n",
      "0  2  0.4204\n",
      "Normalize\n",
      "   k       sil\n",
      "0  2  0.537453\n",
      "MinMaxScaler\n",
      "   k       sil\n",
      "0  2  0.487013\n"
     ]
    }
   ],
   "source": [
    "optimizer(pure_off,11)"
   ]
  },
  {
   "cell_type": "code",
   "execution_count": 142,
   "metadata": {},
   "outputs": [
    {
     "data": {
      "text/plain": [
       "0.5374532181627872"
      ]
     },
     "execution_count": 142,
     "metadata": {},
     "output_type": "execute_result"
    }
   ],
   "source": [
    "# Double Checking my GridSearch with Best parameters\n",
    "scores = []\n",
    "\n",
    "X = nba_stats2021[pure_off]\n",
    "nn = Normalizer()\n",
    "X_nn = nn.fit_transform(X)\n",
    "\n",
    "for k in range(2,11):\n",
    "    cl = KMeans(n_clusters=k)\n",
    "    cl.fit(X_nn)\n",
    "    inertia = cl.inertia_\n",
    "    sil = silhouette_score(X_nn,cl.labels_)\n",
    "    scores.append([k,inertia, sil])\n",
    "    \n",
    "scores_df = pd.DataFrame(scores)\n",
    "scores_df.columns = ['K', 'inertia', 'silhouette']\n",
    "scores_df['silhouette'].max()"
   ]
  },
  {
   "cell_type": "code",
   "execution_count": 143,
   "metadata": {},
   "outputs": [
    {
     "data": {
      "text/html": [
       "<div>\n",
       "<style scoped>\n",
       "    .dataframe tbody tr th:only-of-type {\n",
       "        vertical-align: middle;\n",
       "    }\n",
       "\n",
       "    .dataframe tbody tr th {\n",
       "        vertical-align: top;\n",
       "    }\n",
       "\n",
       "    .dataframe thead th {\n",
       "        text-align: right;\n",
       "    }\n",
       "</style>\n",
       "<table border=\"1\" class=\"dataframe\">\n",
       "  <thead>\n",
       "    <tr style=\"text-align: right;\">\n",
       "      <th></th>\n",
       "      <th>K</th>\n",
       "      <th>inertia</th>\n",
       "      <th>silhouette</th>\n",
       "    </tr>\n",
       "  </thead>\n",
       "  <tbody>\n",
       "    <tr>\n",
       "      <th>0</th>\n",
       "      <td>2</td>\n",
       "      <td>58.693583</td>\n",
       "      <td>0.537453</td>\n",
       "    </tr>\n",
       "    <tr>\n",
       "      <th>1</th>\n",
       "      <td>3</td>\n",
       "      <td>45.426674</td>\n",
       "      <td>0.320131</td>\n",
       "    </tr>\n",
       "    <tr>\n",
       "      <th>2</th>\n",
       "      <td>4</td>\n",
       "      <td>34.067387</td>\n",
       "      <td>0.358776</td>\n",
       "    </tr>\n",
       "    <tr>\n",
       "      <th>3</th>\n",
       "      <td>5</td>\n",
       "      <td>28.841432</td>\n",
       "      <td>0.296299</td>\n",
       "    </tr>\n",
       "    <tr>\n",
       "      <th>4</th>\n",
       "      <td>6</td>\n",
       "      <td>24.849613</td>\n",
       "      <td>0.313837</td>\n",
       "    </tr>\n",
       "  </tbody>\n",
       "</table>\n",
       "</div>"
      ],
      "text/plain": [
       "   K    inertia  silhouette\n",
       "0  2  58.693583    0.537453\n",
       "1  3  45.426674    0.320131\n",
       "2  4  34.067387    0.358776\n",
       "3  5  28.841432    0.296299\n",
       "4  6  24.849613    0.313837"
      ]
     },
     "execution_count": 143,
     "metadata": {},
     "output_type": "execute_result"
    }
   ],
   "source": [
    "scores_df.head()"
   ]
  },
  {
   "cell_type": "markdown",
   "metadata": {},
   "source": [
    "## ```Manual GridSearch Best Parameters Summary```\n",
    "---\n",
    "Defensive:\n",
    "    \n",
    "    Best K clusters = 2\n",
    "    Best scalar = Normalize\n",
    "    Sil score = 0.36\n",
    "\n",
    "Offensive:\n",
    "\n",
    "    Best K clusters = 3\n",
    "    Best scalar = Normalize\n",
    "    Sil score = 0.725332   \n",
    "    \n",
    "Traditonal Stats:\n",
    "\n",
    "    Best K clusters = 2\n",
    "    Best scalar = Normalize\n",
    "    Sil score = 0.700862\n",
    "\n",
    "Pure Offensive:\n",
    "\n",
    "    Best K clusters = 2\n",
    "    Best scalar = Normalize\n",
    "    Sil score = 0.537453    \n",
    "    \n",
    "\n",
    "    "
   ]
  },
  {
   "cell_type": "code",
   "execution_count": null,
   "metadata": {},
   "outputs": [],
   "source": []
  }
 ],
 "metadata": {
  "kernelspec": {
   "display_name": "Python 3",
   "language": "python",
   "name": "python3"
  },
  "language_info": {
   "codemirror_mode": {
    "name": "ipython",
    "version": 3
   },
   "file_extension": ".py",
   "mimetype": "text/x-python",
   "name": "python",
   "nbconvert_exporter": "python",
   "pygments_lexer": "ipython3",
   "version": "3.8.5"
  }
 },
 "nbformat": 4,
 "nbformat_minor": 4
}
